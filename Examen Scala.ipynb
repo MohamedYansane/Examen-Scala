{
 "cells": [
  {
   "attachments": {},
   "cell_type": "markdown",
   "metadata": {},
   "source": [
    "# Examen Scala\n",
    "**Membres du group**\n",
    "* Mohamed Yansane 216810\n",
    "* Awa M'baye 219297\n"
   ]
  },
  {
   "attachments": {},
   "cell_type": "markdown",
   "metadata": {},
   "source": [
    "**Importation des modules Spark**"
   ]
  },
  {
   "cell_type": "code",
   "execution_count": 1,
   "metadata": {},
   "outputs": [
    {
     "data": {
      "text/plain": [
       "\u001b[32mimport \u001b[39m\u001b[36m$ivy.$                                   \n",
       "\u001b[39m\r\n",
       "\u001b[32mimport \u001b[39m\u001b[36m$ivy.$                                \n",
       "\u001b[39m\r\n",
       "\u001b[32mimport \u001b[39m\u001b[36morg.apache.log4j.{Level, Logger}\n",
       "\n",
       "\u001b[39m\r\n",
       "\u001b[36mrootLogger\u001b[39m: \u001b[32mLogger\u001b[39m = org.apache.log4j.spi.RootLogger@4330d875"
      ]
     },
     "execution_count": 1,
     "metadata": {},
     "output_type": "execute_result"
    }
   ],
   "source": [
    "//Importation des modules Spark\n",
    "import $ivy.`org.apache.spark::spark-sql:2.4.5` \n",
    "import $ivy.`sh.almond::almond-spark:0.10.9` \n",
    "import org.apache.log4j.{Level, Logger}\n",
    "\n",
    "val rootLogger = Logger.getRootLogger()\n",
    "rootLogger.setLevel(Level.ERROR)\n",
    "\n",
    "Logger.getLogger(\"org.apache.spark\").setLevel(Level.WARN)\n",
    "Logger.getLogger(\"org.spark-project\").setLevel(Level.WARN)"
   ]
  },
  {
   "attachments": {},
   "cell_type": "markdown",
   "metadata": {},
   "source": [
    "**Création de la Session Spark**"
   ]
  },
  {
   "cell_type": "code",
   "execution_count": 2,
   "metadata": {},
   "outputs": [
    {
     "name": "stderr",
     "output_type": "stream",
     "text": [
      "Using Spark's default log4j profile: org/apache/spark/log4j-defaults.properties\n",
      "23/05/26 14:07:28 WARN NativeCodeLoader: Unable to load native-hadoop library for your platform... using builtin-java classes where applicable\n"
     ]
    },
    {
     "data": {
      "text/plain": [
       "\u001b[32mimport \u001b[39m\u001b[36morg.apache.spark.sql.{SparkSession, DataFrame}\n",
       "\u001b[39m\r\n",
       "\u001b[32mimport \u001b[39m\u001b[36morg.apache.spark.sql.types._\n",
       "\u001b[39m\r\n",
       "\u001b[32mimport \u001b[39m\u001b[36morg.apache.spark.sql.functions._\n",
       "\n",
       "\u001b[39m\r\n",
       "\u001b[36mspark\u001b[39m: \u001b[32mSparkSession\u001b[39m = org.apache.spark.sql.SparkSession@16fd208b"
      ]
     },
     "execution_count": 2,
     "metadata": {},
     "output_type": "execute_result"
    }
   ],
   "source": [
    "//Création de la Session Spark\n",
    "import org.apache.spark.sql.{SparkSession, DataFrame}\n",
    "import org.apache.spark.sql.types._\n",
    "import org.apache.spark.sql.functions._\n",
    "\n",
    "val spark = SparkSession.builder().appName(\"myApp\").master(\"local\").getOrCreate()"
   ]
  },
  {
   "attachments": {},
   "cell_type": "markdown",
   "metadata": {},
   "source": [
    "**Chargement des données (DataFrames)**"
   ]
  },
  {
   "cell_type": "code",
   "execution_count": 3,
   "metadata": {},
   "outputs": [
    {
     "data": {
      "text/plain": [
       "\u001b[36mdf_jan\u001b[39m: \u001b[32mDataFrame\u001b[39m = [Order ID: string, Product: string ... 4 more fields]\r\n",
       "\u001b[36mdf_feb\u001b[39m: \u001b[32mDataFrame\u001b[39m = [Order ID: string, Product: string ... 4 more fields]\r\n",
       "\u001b[36mdf_mar\u001b[39m: \u001b[32mDataFrame\u001b[39m = [Order ID: string, Product: string ... 4 more fields]\r\n",
       "\u001b[36mdf_apr\u001b[39m: \u001b[32mDataFrame\u001b[39m = [Order ID: string, Product: string ... 4 more fields]\r\n",
       "\u001b[36mdf_may\u001b[39m: \u001b[32mDataFrame\u001b[39m = [Order ID: string, Product: string ... 4 more fields]\r\n",
       "\u001b[36mdf_jun\u001b[39m: \u001b[32mDataFrame\u001b[39m = [Order ID: string, Product: string ... 4 more fields]\r\n",
       "\u001b[36mdf_jul\u001b[39m: \u001b[32mDataFrame\u001b[39m = [Order ID: string, Product: string ... 4 more fields]\r\n",
       "\u001b[36mdf_aug\u001b[39m: \u001b[32mDataFrame\u001b[39m = [Order ID: string, Product: string ... 4 more fields]\r\n",
       "\u001b[36mdf_sep\u001b[39m: \u001b[32mDataFrame\u001b[39m = [Order ID: string, Product: string ... 4 more fields]\r\n",
       "\u001b[36mdf_oct\u001b[39m: \u001b[32mDataFrame\u001b[39m = [Order ID: string, Product: string ... 4 more fields]\r\n",
       "\u001b[36mdf_nov\u001b[39m: \u001b[32mDataFrame\u001b[39m = [Order ID: string, Product: string ... 4 more fields]\r\n",
       "\u001b[36mdf_dec\u001b[39m: \u001b[32mDataFrame\u001b[39m = [Order ID: string, Product: string ... 4 more fields]\r\n",
       "\u001b[36mcombinedDF\u001b[39m: \u001b[32morg\u001b[39m.\u001b[32mapache\u001b[39m.\u001b[32mspark\u001b[39m.\u001b[32msql\u001b[39m.\u001b[32mDataset\u001b[39m[\u001b[32morg\u001b[39m.\u001b[32mapache\u001b[39m.\u001b[32mspark\u001b[39m.\u001b[32msql\u001b[39m.\u001b[32mRow\u001b[39m] = [Order ID: string, Product: string ... 4 more fields]\r\n",
       "\u001b[36mres2_13\u001b[39m: \u001b[32mLong\u001b[39m = \u001b[32m186849L\u001b[39m"
      ]
     },
     "execution_count": 3,
     "metadata": {},
     "output_type": "execute_result"
    }
   ],
   "source": [
    "//Chargement des données (en DataFrame)\n",
    "val df_jan = spark.read.format(\"csv\")\n",
    "  .option(\"header\", \"true\")\n",
    "  .load(\"Sales_January_2019.csv\")\n",
    "\n",
    "val df_feb = spark.read.format(\"csv\")\n",
    "  .option(\"header\", \"true\")\n",
    "  .load(\"Sales_February_2019.csv\")\n",
    "\n",
    "val df_mar = spark.read.format(\"csv\")\n",
    "  .option(\"header\", \"true\")\n",
    "  .load(\"Sales_March_2019.csv\")\n",
    "\n",
    "val df_apr = spark.read.format(\"csv\")\n",
    "  .option(\"header\", \"true\")\n",
    "  .load(\"Sales_April_2019.csv\")\n",
    "\n",
    "val df_may = spark.read.format(\"csv\")\n",
    "  .option(\"header\", \"true\")\n",
    "  .load(\"Sales_May_2019.csv\")\n",
    "\n",
    "val df_jun = spark.read.format(\"csv\")\n",
    "  .option(\"header\", \"true\")\n",
    "  .load(\"Sales_June_2019.csv\")\n",
    "\n",
    "val df_jul = spark.read.format(\"csv\")\n",
    "  .option(\"header\", \"true\")\n",
    "  .load(\"Sales_July_2019.csv\")\n",
    "\n",
    "val df_aug = spark.read.format(\"csv\")\n",
    "  .option(\"header\", \"true\")\n",
    "  .load(\"Sales_August_2019.csv\")\n",
    "\n",
    "val df_sep = spark.read.format(\"csv\")\n",
    "  .option(\"header\", \"true\")\n",
    "  .load(\"Sales_September_2019.csv\")\n",
    "\n",
    "val df_oct = spark.read.format(\"csv\")\n",
    "  .option(\"header\", \"true\")\n",
    "  .load(\"Sales_October_2019.csv\")\n",
    "\n",
    "val df_nov = spark.read.format(\"csv\")\n",
    "  .option(\"header\", \"true\")\n",
    "  .load(\"Sales_November_2019.csv\")\n",
    "\n",
    "val df_dec = spark.read.format(\"csv\")\n",
    "  .option(\"header\", \"true\")\n",
    "  .load(\"Sales_December_2019.csv\")\n",
    "//Jonction de tout les dataframes - (combinedDF)\n",
    "val combinedDF = df_jan.union(df_feb)\n",
    "                        .union(df_mar)\n",
    "                        .union(df_apr)\n",
    "                        .union(df_may)\n",
    "                        .union(df_jun)\n",
    "                        .union(df_jul)\n",
    "                        .union(df_aug)\n",
    "                        .union(df_sep)\n",
    "                        .union(df_oct)\n",
    "                        .union(df_nov)\n",
    "                        .union(df_dec)\n",
    "\n",
    "combinedDF.count() "
   ]
  },
  {
   "attachments": {},
   "cell_type": "markdown",
   "metadata": {},
   "source": [
    "**Encodage des colonnes - Order Date (en timestamp), Price Each (en double), et Quantity (en integer)**"
   ]
  },
  {
   "cell_type": "code",
   "execution_count": 4,
   "metadata": {},
   "outputs": [
    {
     "name": "stdout",
     "output_type": "stream",
     "text": [
      "root\n",
      " |-- Order ID: string (nullable = true)\n",
      " |-- Product: string (nullable = true)\n",
      " |-- Quantity Ordered: integer (nullable = true)\n",
      " |-- Price Each: double (nullable = true)\n",
      " |-- Order Date: timestamp (nullable = true)\n",
      " |-- Purchase Address: string (nullable = true)\n",
      "\n",
      "+--------+--------------------+----------------+----------+-------------------+--------------------+\n",
      "|Order ID|             Product|Quantity Ordered|Price Each|         Order Date|    Purchase Address|\n",
      "+--------+--------------------+----------------+----------+-------------------+--------------------+\n",
      "|  141234|              iPhone|               1|     700.0|2019-01-22 21:25:00|944 Walnut St, Bo...|\n",
      "|  141235|Lightning Chargin...|               1|     14.95|2019-01-28 14:15:00|185 Maple St, Por...|\n",
      "|  141236|    Wired Headphones|               2|     11.99|2019-01-17 13:33:00|538 Adams St, San...|\n",
      "|  141237|    27in FHD Monitor|               1|    149.99|2019-01-05 20:33:00|738 10th St, Los ...|\n",
      "|  141238|    Wired Headphones|               1|     11.99|2019-01-25 11:59:00|387 10th St, Aust...|\n",
      "|  141239|AAA Batteries (4-...|               1|      2.99|2019-01-29 20:22:00|775 Willow St, Sa...|\n",
      "|  141240|27in 4K Gaming Mo...|               1|    389.99|2019-01-26 12:16:00|979 Park St, Los ...|\n",
      "|  141241|USB-C Charging Cable|               1|     11.95|2019-01-05 12:04:00|181 6th St, San F...|\n",
      "|  141242|Bose SoundSport H...|               1|     99.99|2019-01-01 10:30:00|867 Willow St, Lo...|\n",
      "|  141243|Apple Airpods Hea...|               1|     150.0|2019-01-22 21:20:00|657 Johnson St, S...|\n",
      "|  141244|Apple Airpods Hea...|               1|     150.0|2019-01-07 11:29:00|492 Walnut St, Sa...|\n",
      "|  141245|  Macbook Pro Laptop|               1|    1700.0|2019-01-31 10:12:00|322 6th St, San F...|\n",
      "|  141246|AAA Batteries (4-...|               3|      2.99|2019-01-09 18:57:00|618 7th St, Los A...|\n",
      "|  141247|    27in FHD Monitor|               1|    149.99|2019-01-25 19:19:00|512 Wilson St, Sa...|\n",
      "|  141248|       Flatscreen TV|               1|     300.0|2019-01-03 21:54:00|363 Spruce St, Au...|\n",
      "|  141249|    27in FHD Monitor|               1|    149.99|2019-01-05 17:20:00|440 Cedar St, Por...|\n",
      "|  141250|     Vareebadd Phone|               1|     400.0|2019-01-10 11:20:00|471 Center St, Lo...|\n",
      "|  141251|Apple Airpods Hea...|               1|     150.0|2019-01-24 08:13:00|414 Walnut St, Bo...|\n",
      "|  141252|USB-C Charging Cable|               1|     11.95|2019-01-30 09:28:00|220 9th St, Los A...|\n",
      "|  141253|AA Batteries (4-p...|               1|      3.84|2019-01-17 00:09:00|385 11th St, Atla...|\n",
      "|  141254|AAA Batteries (4-...|               1|      2.99|2019-01-08 11:51:00|238 Sunset St, Se...|\n",
      "|  141255|USB-C Charging Cable|               1|     11.95|2019-01-09 20:55:00|764 11th St, Los ...|\n",
      "|  141256|        Google Phone|               1|     600.0|2019-01-29 10:40:00|675 Washington St...|\n",
      "|  141257|Apple Airpods Hea...|               1|     150.0|2019-01-12 18:51:00|338 Highland St, ...|\n",
      "|  141258|AA Batteries (4-p...|               1|      3.84|2019-01-19 21:47:00|820 1st St, San F...|\n",
      "|  141259|AAA Batteries (4-...|               2|      2.99|2019-01-20 17:26:00|920 Adams St, San...|\n",
      "|  141260|AAA Batteries (4-...|               1|      2.99|2019-01-01 22:00:00|293 Hill St, San ...|\n",
      "|  141261|USB-C Charging Cable|               1|     11.95|2019-01-09 18:14:00|840 Lincoln St, A...|\n",
      "|  141262|AAA Batteries (4-...|               1|      2.99|2019-01-16 12:35:00|291 Lincoln St, S...|\n",
      "|  141263|Bose SoundSport H...|               1|     99.99|2019-01-11 23:33:00|640 Spruce St, Bo...|\n",
      "+--------+--------------------+----------------+----------+-------------------+--------------------+\n",
      "only showing top 30 rows\n",
      "\n"
     ]
    },
    {
     "data": {
      "text/plain": [
       "\u001b[36mcombinedDF2\u001b[39m: \u001b[32mDataFrame\u001b[39m = [Order ID: string, Product: string ... 4 more fields]"
      ]
     },
     "execution_count": 4,
     "metadata": {},
     "output_type": "execute_result"
    }
   ],
   "source": [
    "val combinedDF2 = combinedDF.withColumn(\"Order Date\", to_timestamp(col(\"Order Date\"), \"MM/dd/yy HH:mm\"))\n",
    "                    .withColumn(\"Quantity Ordered\", col(\"Quantity Ordered\").cast(\"integer\"))\n",
    "                    .withColumn(\"Price Each\", col(\"Price Each\").cast(\"double\"))\n",
    "\n",
    "\n",
    "//Verification\n",
    "combinedDF2.printSchema()\n",
    "combinedDF2.show(30)\n"
   ]
  },
  {
   "attachments": {},
   "cell_type": "markdown",
   "metadata": {},
   "source": [
    "**Question 1 - Quelle année a été la meilleure en termes de ventes ? Combien a-t-on gagné cette\n",
    "année-là?**                  "
   ]
  },
  {
   "cell_type": "code",
   "execution_count": 5,
   "metadata": {},
   "outputs": [
    {
     "name": "stdout",
     "output_type": "stream",
     "text": [
      "La meilleure année en termes de ventes était 2019 avec un total de ventes : 34280627.28 USD\n"
     ]
    },
    {
     "data": {
      "text/plain": [
       "\u001b[36msalesByYear\u001b[39m: \u001b[32morg\u001b[39m.\u001b[32mapache\u001b[39m.\u001b[32mspark\u001b[39m.\u001b[32msql\u001b[39m.\u001b[32mDataset\u001b[39m[\u001b[32morg\u001b[39m.\u001b[32mapache\u001b[39m.\u001b[32mspark\u001b[39m.\u001b[32msql\u001b[39m.\u001b[32mRow\u001b[39m] = [Year: int, Total Sales: double]\r\n",
       "\u001b[36mbestYear\u001b[39m: \u001b[32mInt\u001b[39m = \u001b[32m2019\u001b[39m\r\n",
       "\u001b[36mbestYearSales\u001b[39m: \u001b[32mBigDecimal\u001b[39m = 34280627.280005336"
      ]
     },
     "execution_count": 5,
     "metadata": {},
     "output_type": "execute_result"
    }
   ],
   "source": [
    "// Question 1 : Quelle année a été la meilleure en termes de ventes ? Combien a-t-on gagné cette année-là ?\n",
    "val salesByYear = combinedDF2.withColumn(\"Year\", year(col(\"Order Date\")))\n",
    "  .groupBy(\"Year\")\n",
    "  .agg(sum(\"Price Each\").alias(\"Total Sales\"))\n",
    "  .orderBy(desc(\"Total Sales\"))\n",
    "\n",
    "val bestYear = salesByYear.first().getAs[Int](\"Year\")\n",
    "val bestYearSales = BigDecimal(salesByYear.first().getAs[Double](\"Total Sales\"))\n",
    "\n",
    "println(s\"La meilleure année en termes de ventes était  $bestYear avec un total de ventes : $bestYearSales%.2f USD\")"
   ]
  },
  {
   "attachments": {},
   "cell_type": "markdown",
   "metadata": {},
   "source": [
    "**Question 2 - Quel mois a été le meilleur en termes de ventes ? Combien a-t-on gagné ce mois-là ?**"
   ]
  },
  {
   "cell_type": "code",
   "execution_count": 6,
   "metadata": {},
   "outputs": [
    {
     "name": "stdout",
     "output_type": "stream",
     "text": [
      "Le meilleur mois en termes de ventes était le mois de Decembre avec un total de ventes : 4588415.41 USD\n"
     ]
    },
    {
     "data": {
      "text/plain": [
       "\u001b[32mimport \u001b[39m\u001b[36mjava.time.Month\n",
       "\u001b[39m\r\n",
       "\u001b[36msalesByMonth\u001b[39m: \u001b[32morg\u001b[39m.\u001b[32mapache\u001b[39m.\u001b[32mspark\u001b[39m.\u001b[32msql\u001b[39m.\u001b[32mDataset\u001b[39m[\u001b[32morg\u001b[39m.\u001b[32mapache\u001b[39m.\u001b[32mspark\u001b[39m.\u001b[32msql\u001b[39m.\u001b[32mRow\u001b[39m] = [Month: int, Total Sales: double]\r\n",
       "\u001b[36mbestMonth\u001b[39m: \u001b[32mInt\u001b[39m = \u001b[32m12\u001b[39m\r\n",
       "\u001b[36mbestMonthSales\u001b[39m: \u001b[32mBigDecimal\u001b[39m = 4588415.410001603\r\n",
       "defined \u001b[32mfunction\u001b[39m \u001b[36mafficherMois\u001b[39m\r\n",
       "\u001b[36mbestMonthName\u001b[39m: \u001b[32mString\u001b[39m = \u001b[32m\"Decembre\"\u001b[39m"
      ]
     },
     "execution_count": 6,
     "metadata": {},
     "output_type": "execute_result"
    }
   ],
   "source": [
    "// Question 2 : Quel mois a été le meilleur en termes de ventes ? Combien a-t-on gagné ce mois-là ?\n",
    "import java.time.Month\n",
    "val salesByMonth = combinedDF2.withColumn(\"Month\", month(col(\"Order Date\")))\n",
    "  .groupBy(\"Month\")\n",
    "  .agg(sum(\"Price Each\").alias(\"Total Sales\"))\n",
    "  .orderBy(desc(\"Total Sales\"))\n",
    "\n",
    "val bestMonth = salesByMonth.first().getAs[Int](\"Month\")\n",
    "val bestMonthSales = BigDecimal(salesByMonth.first().getAs[Double](\"Total Sales\"))\n",
    "//fonction pour afficher le nom du mois (en Français)\n",
    "   def afficherMois( a:Int ) : String = {\n",
    "    a match {\n",
    "      case 1  => \"Janvier\"\n",
    "      case 2  => \"Fevrier\"\n",
    "      case 3  => \"Mars\"\n",
    "      case 4  => \"Avril\"\n",
    "      case 5  => \"Mai\"\n",
    "      case 6  => \"Juin\"\n",
    "      case 7  => \"Juillet\"\n",
    "      case 8  => \"Août\"\n",
    "      case 9  => \"Septembre\"\n",
    "      case 10 => \"Octobre\"\n",
    "      case 11 => \"Novembre\"\n",
    "      case 12 => \"Decembre\"\n",
    "      case _  => \"Invalide\"\n",
    "    }\n",
    "   }\n",
    "val bestMonthName = afficherMois(bestMonth)\n",
    "\n",
    "println(s\"Le meilleur mois en termes de ventes était le mois de $bestMonthName avec un total de ventes : $bestMonthSales%.2f USD\")\n"
   ]
  },
  {
   "attachments": {},
   "cell_type": "markdown",
   "metadata": {},
   "source": [
    "**Question 3 - Quelle ville a enregistré le plus grand nombre de ventes ?**"
   ]
  },
  {
   "cell_type": "code",
   "execution_count": 7,
   "metadata": {},
   "outputs": [
    {
     "name": "stdout",
     "output_type": "stream",
     "text": [
      "La ville avec le plus grand nombre de ventes est : San Francisco\n",
      "Le nombre de ventes pour cette ville est : 44732\n"
     ]
    },
    {
     "data": {
      "text/plain": [
       "\u001b[32mimport \u001b[39m\u001b[36morg.apache.spark.sql.functions._\n",
       "\n",
       "// Créez une colonne \"City\" à partir de la colonne \"Purchase Address\"\n",
       "\u001b[39m\r\n",
       "\u001b[36msalesDataWithCity\u001b[39m: \u001b[32mDataFrame\u001b[39m = [Order ID: string, Product: string ... 5 more fields]\r\n",
       "\u001b[36msalesByCity\u001b[39m: \u001b[32mDataFrame\u001b[39m = [City: string, count: bigint]\r\n",
       "\u001b[36mcityWithMostSalesRow\u001b[39m: \u001b[32morg\u001b[39m.\u001b[32mapache\u001b[39m.\u001b[32mspark\u001b[39m.\u001b[32msql\u001b[39m.\u001b[32mRow\u001b[39m = [San Francisco,44732]\r\n",
       "\u001b[36mcityWithMostSales\u001b[39m: \u001b[32mString\u001b[39m = \u001b[32m\"San Francisco\"\u001b[39m\r\n",
       "\u001b[36mnumSales\u001b[39m: \u001b[32mLong\u001b[39m = \u001b[32m44732L\u001b[39m"
      ]
     },
     "execution_count": 7,
     "metadata": {},
     "output_type": "execute_result"
    }
   ],
   "source": [
    "import org.apache.spark.sql.functions._\n",
    "\n",
    "// Créez une colonne \"City\" à partir de la colonne \"Purchase Address\"\n",
    "val salesDataWithCity = combinedDF2.withColumn(\"City\", trim(split(col(\"Purchase Address\"), \",\")(1)))\n",
    "\n",
    "// Comptez le nombre de ventes par ville\n",
    "val salesByCity = salesDataWithCity.groupBy(\"City\").count()\n",
    "\n",
    "// Trouvez la ville avec le plus grand nombre de ventes\n",
    "val cityWithMostSalesRow = salesByCity.orderBy(desc(\"count\")).first()\n",
    "val cityWithMostSales = cityWithMostSalesRow.getAs[String](\"City\")\n",
    "val numSales = cityWithMostSalesRow.getAs[Long](\"count\")\n",
    "\n",
    "// Affichez la ville avec le plus grand nombre de ventes et le nombre de ventes en chiffres\n",
    "println(s\"La ville avec le plus grand nombre de ventes est : $cityWithMostSales\")\n",
    "println(s\"Le nombre de ventes pour cette ville est : $numSales\")\n",
    "\n",
    "\n"
   ]
  },
  {
   "attachments": {},
   "cell_type": "markdown",
   "metadata": {},
   "source": [
    "**Question 4 - À quelle heure devraient-ils diffuser des publicités pour maximiser les chances que les clients achètent le produit ?**"
   ]
  },
  {
   "cell_type": "code",
   "execution_count": 8,
   "metadata": {},
   "outputs": [
    {
     "name": "stdout",
     "output_type": "stream",
     "text": [
      "Il est recommandé de diffuser des publicités à 19 H pour maximiser les chances d'achat\n"
     ]
    },
    {
     "data": {
      "text/plain": [
       "\u001b[36msalesByHour\u001b[39m: \u001b[32morg\u001b[39m.\u001b[32mapache\u001b[39m.\u001b[32mspark\u001b[39m.\u001b[32msql\u001b[39m.\u001b[32mDataset\u001b[39m[\u001b[32morg\u001b[39m.\u001b[32mapache\u001b[39m.\u001b[32mspark\u001b[39m.\u001b[32msql\u001b[39m.\u001b[32mRow\u001b[39m] = [Hour: int, count: bigint]\r\n",
       "\u001b[36mbestHour\u001b[39m: \u001b[32mInt\u001b[39m = \u001b[32m19\u001b[39m"
      ]
     },
     "execution_count": 8,
     "metadata": {},
     "output_type": "execute_result"
    }
   ],
   "source": [
    "// Question 4 : À quelle heure devraient-ils diffuser des publicités pour maximiser les chances que les clients achètent le produit ?\n",
    "val salesByHour = combinedDF2.withColumn(\"Hour\", hour(col(\"Order Date\")))\n",
    "  .groupBy(\"Hour\")\n",
    "  .count()\n",
    "  .orderBy(desc(\"count\"))\n",
    "\n",
    "val bestHour = salesByHour.first().getAs[Int](\"Hour\")\n",
    "\n",
    "println(s\"Il est recommandé de diffuser des publicités à $bestHour H pour maximiser les chances d'achat\")"
   ]
  },
  {
   "attachments": {},
   "cell_type": "markdown",
   "metadata": {},
   "source": [
    "**Question 5 : Quels produits sont le plus souvent vendus ensemble ?**"
   ]
  },
  {
   "cell_type": "code",
   "execution_count": 9,
   "metadata": {},
   "outputs": [
    {
     "name": "stdout",
     "output_type": "stream",
     "text": [
      "Les produits les plus souvent vendus ensemble :\n",
      "+-------------------------------------------------------------------+\n",
      "|Combination                                                        |\n",
      "+-------------------------------------------------------------------+\n",
      "|[27in FHD Monitor, USB-C Charging Cable]                           |\n",
      "|[Google Phone, 27in FHD Monitor]                                   |\n",
      "|[Flatscreen TV, 34in Ultrawide Monitor]                            |\n",
      "|[27in FHD Monitor, AA Batteries (4-pack)]                          |\n",
      "|[34in Ultrawide Monitor, Macbook Pro Laptop]                       |\n",
      "|[Bose SoundSport Headphones, Vareebadd Phone]                      |\n",
      "|[iPhone, 34in Ultrawide Monitor]                                   |\n",
      "|[USB-C Charging Cable, Macbook Pro Laptop]                         |\n",
      "|[27in FHD Monitor, AAA Batteries (4-pack)]                         |\n",
      "|[20in Monitor, 34in Ultrawide Monitor]                             |\n",
      "|[Apple Airpods Headphones, 27in FHD Monitor]                       |\n",
      "|[Lightning Charging Cable, 27in FHD Monitor]                       |\n",
      "|[Wired Headphones, 27in 4K Gaming Monitor]                         |\n",
      "|[ThinkPad Laptop, Flatscreen TV]                                   |\n",
      "|[27in 4K Gaming Monitor, 27in FHD Monitor]                         |\n",
      "|[27in FHD Monitor, iPhone]                                         |\n",
      "|[USB-C Charging Cable, LG Dryer]                                   |\n",
      "|[iPhone, Wired Headphones, Lightning Charging Cable]               |\n",
      "|[Vareebadd Phone, 27in FHD Monitor]                                |\n",
      "|[Vareebadd Phone, USB-C Charging Cable, Bose SoundSport Headphones]|\n",
      "+-------------------------------------------------------------------+\n",
      "only showing top 20 rows\n",
      "\n"
     ]
    },
    {
     "data": {
      "text/plain": [
       "\u001b[36mgroupedProducts\u001b[39m: \u001b[32mDataFrame\u001b[39m = [Order ID: string, Products: array<string>]\r\n",
       "\u001b[36mmultiProductOrders\u001b[39m: \u001b[32morg\u001b[39m.\u001b[32mapache\u001b[39m.\u001b[32mspark\u001b[39m.\u001b[32msql\u001b[39m.\u001b[32mDataset\u001b[39m[\u001b[32morg\u001b[39m.\u001b[32mapache\u001b[39m.\u001b[32mspark\u001b[39m.\u001b[32msql\u001b[39m.\u001b[32mRow\u001b[39m] = [Order ID: string, Products: array<string>]\r\n",
       "\u001b[36mproductCombinations\u001b[39m: \u001b[32morg\u001b[39m.\u001b[32mapache\u001b[39m.\u001b[32mspark\u001b[39m.\u001b[32msql\u001b[39m.\u001b[32mDataset\u001b[39m[\u001b[32morg\u001b[39m.\u001b[32mapache\u001b[39m.\u001b[32mspark\u001b[39m.\u001b[32msql\u001b[39m.\u001b[32mRow\u001b[39m] = [Combination: array<string>]"
      ]
     },
     "execution_count": 9,
     "metadata": {},
     "output_type": "execute_result"
    }
   ],
   "source": [
    "// Question 5 : Quels produits sont le plus souvent vendus ensemble ?\n",
    "\n",
    "// Groupez les produits par numéro de commande et collectez les produits dans un tableau\n",
    "val groupedProducts = combinedDF.groupBy(\"Order ID\").agg(collect_list(\"Product\").as(\"Products\"))\n",
    "\n",
    "// Filtrez les commandes avec plus d'un produit\n",
    "val multiProductOrders = groupedProducts.filter(size(col(\"Products\")) > 1)\n",
    "\n",
    "// Effectuez une jointure sur les commandes pour obtenir les combinaisons de produits\n",
    "val productCombinations = multiProductOrders.join(multiProductOrders.withColumnRenamed(\"Products\", \"Products_1\"), Seq(\"Order ID\"))\n",
    "  .where(size(array_intersect(col(\"Products\"), col(\"Products_1\"))) > 1)\n",
    "  .select(col(\"Products\").as(\"Combination\"))\n",
    "  .distinct()\n",
    "\n",
    "// Affichez les combinaisons de produits les plus souvent vendues ensemble\n",
    "println(\"Les produits les plus souvent vendus ensemble :\")\n",
    "productCombinations.show(false)\n",
    "\n"
   ]
  },
  {
   "attachments": {},
   "cell_type": "markdown",
   "metadata": {},
   "source": [
    "**Question 6 : Quel produit s'est le plus vendu ? Pourquoi pensez-vous qu'il se soit autant vendu ? (Réponse A)**"
   ]
  },
  {
   "cell_type": "code",
   "execution_count": 10,
   "metadata": {},
   "outputs": [
    {
     "name": "stdout",
     "output_type": "stream",
     "text": [
      "Le produit le plus vendu est: AAA Batteries (4-pack)\n"
     ]
    },
    {
     "data": {
      "text/plain": [
       "\u001b[36mbestSellingProduct\u001b[39m: \u001b[32mString\u001b[39m = \u001b[32m\"AAA Batteries (4-pack)\"\u001b[39m"
      ]
     },
     "execution_count": 10,
     "metadata": {},
     "output_type": "execute_result"
    }
   ],
   "source": [
    "// Question 6 : Quel produit s'est le plus vendu ? Pourquoi pensez-vous qu'il se soit autant vendu ?\n",
    "val bestSellingProduct = combinedDF2.groupBy(\"Product\")\n",
    "  .agg(sum(\"Quantity Ordered\").alias(\"Total Quantity\"))\n",
    "  .orderBy(desc(\"Total Quantity\"))\n",
    "  .first()\n",
    "  .getAs[String](\"Product\")\n",
    "\n",
    "println(s\"Le produit le plus vendu est: $bestSellingProduct\")"
   ]
  },
  {
   "attachments": {},
   "cell_type": "markdown",
   "metadata": {},
   "source": [
    "**Question 6 (Réponse B)** - La raison pour laquelle les piles AAA se sont autant vendu est parce que la plus part des produit sur le catalogue nécessitent des batteries pour fonctionner"
   ]
  },
  {
   "attachments": {},
   "cell_type": "markdown",
   "metadata": {},
   "source": [
    "**Question 7 : Quelle est la probabilité que les prochains clients commandent un câble de chargement USB-C ?**"
   ]
  },
  {
   "cell_type": "code",
   "execution_count": 11,
   "metadata": {},
   "outputs": [
    {
     "name": "stdout",
     "output_type": "stream",
     "text": [
      "La probabilité que les prochains clients commandent un câble de chargement USB-C est de 0.1227478297905727\n"
     ]
    },
    {
     "data": {
      "text/plain": [
       "\u001b[36mtotalOrders\u001b[39m: \u001b[32mLong\u001b[39m = \u001b[32m178439L\u001b[39m\r\n",
       "\u001b[36musbCOrders\u001b[39m: \u001b[32mLong\u001b[39m = \u001b[32m21903L\u001b[39m\r\n",
       "\u001b[36musbCProbability\u001b[39m: \u001b[32mDouble\u001b[39m = \u001b[32m0.1227478297905727\u001b[39m"
      ]
     },
     "execution_count": 11,
     "metadata": {},
     "output_type": "execute_result"
    }
   ],
   "source": [
    "// Question 7 : Quelle est la probabilité que les prochains clients commandent un câble de chargement USB-C ?\n",
    "val totalOrders = combinedDF2.select(\"Order ID\").distinct().count()\n",
    "val usbCOrders = combinedDF2.filter(col(\"Product\").contains(\"USB-C Charging Cable\")).count()\n",
    "val usbCProbability = usbCOrders.toDouble / totalOrders.toDouble\n",
    "\n",
    "println(s\"La probabilité que les prochains clients commandent un câble de chargement USB-C est de $usbCProbability\")"
   ]
  },
  {
   "attachments": {},
   "cell_type": "markdown",
   "metadata": {},
   "source": [
    "**Question 8 : Quelle est la probabilité que les prochains clients commandent un iPhone ?**"
   ]
  },
  {
   "cell_type": "code",
   "execution_count": 12,
   "metadata": {},
   "outputs": [
    {
     "name": "stdout",
     "output_type": "stream",
     "text": [
      "La probabilité que les prochains clients commandent un iPhone est de 0.03834363564019076\n"
     ]
    },
    {
     "data": {
      "text/plain": [
       "\u001b[36mtotalOrders\u001b[39m: \u001b[32mLong\u001b[39m = \u001b[32m178439L\u001b[39m\r\n",
       "\u001b[36miPhoneOrders\u001b[39m: \u001b[32mLong\u001b[39m = \u001b[32m6842L\u001b[39m\r\n",
       "\u001b[36miPhoneProbability\u001b[39m: \u001b[32mDouble\u001b[39m = \u001b[32m0.03834363564019076\u001b[39m"
      ]
     },
     "execution_count": 12,
     "metadata": {},
     "output_type": "execute_result"
    }
   ],
   "source": [
    "// Question 8 : Quelle est la probabilité que les prochains clients commandent un iPhone ?\n",
    "val totalOrders = combinedDF2.select(\"Order ID\").distinct().count()\n",
    "val iPhoneOrders = combinedDF2.filter(col(\"Product\").contains(\"iPhone\")).count()\n",
    "val iPhoneProbability = iPhoneOrders.toDouble / totalOrders.toDouble\n",
    "\n",
    "println(s\"La probabilité que les prochains clients commandent un iPhone est de $iPhoneProbability\")"
   ]
  },
  {
   "attachments": {},
   "cell_type": "markdown",
   "metadata": {},
   "source": [
    "**Question 9 : Quelle est la probabilité que les prochains clients commandent un téléphone Google ?**"
   ]
  },
  {
   "cell_type": "code",
   "execution_count": 13,
   "metadata": {},
   "outputs": [
    {
     "name": "stdout",
     "output_type": "stream",
     "text": [
      "La probabilité que les prochains clients commandent un téléphone Google est de 0.030962962132717622\n"
     ]
    },
    {
     "data": {
      "text/plain": [
       "\u001b[36mtotalOrders\u001b[39m: \u001b[32mLong\u001b[39m = \u001b[32m178439L\u001b[39m\r\n",
       "\u001b[36mgooglePhoneOrders\u001b[39m: \u001b[32mLong\u001b[39m = \u001b[32m5525L\u001b[39m\r\n",
       "\u001b[36mgooglePhoneProbability\u001b[39m: \u001b[32mDouble\u001b[39m = \u001b[32m0.030962962132717622\u001b[39m"
      ]
     },
     "execution_count": 13,
     "metadata": {},
     "output_type": "execute_result"
    }
   ],
   "source": [
    "// Question 9 : Quelle est la probabilité que les prochains clients commandent un téléphone Google ?\n",
    "val totalOrders = combinedDF2.select(\"Order ID\").distinct().count()\n",
    "val googlePhoneOrders = combinedDF2.filter(col(\"Product\").contains(\"Google Phone\")).count()\n",
    "val googlePhoneProbability = googlePhoneOrders.toDouble / totalOrders.toDouble\n",
    "\n",
    "println(s\"La probabilité que les prochains clients commandent un téléphone Google est de $googlePhoneProbability\")"
   ]
  },
  {
   "attachments": {},
   "cell_type": "markdown",
   "metadata": {},
   "source": [
    "**Question 10 - Quelle est la probabilité que d'autres personnes commandent des écouteurs filaires ?**"
   ]
  },
  {
   "cell_type": "code",
   "execution_count": 14,
   "metadata": {},
   "outputs": [
    {
     "name": "stdout",
     "output_type": "stream",
     "text": [
      "La probabilité que les prochains clients commandent des écouteurs filaires est de 0.10581767438732564\n"
     ]
    },
    {
     "data": {
      "text/plain": [
       "\u001b[36mtotalOrders\u001b[39m: \u001b[32mLong\u001b[39m = \u001b[32m178439L\u001b[39m\r\n",
       "\u001b[36mwiredHeadphoneOrders\u001b[39m: \u001b[32mLong\u001b[39m = \u001b[32m18882L\u001b[39m\r\n",
       "\u001b[36mwiredHeadphoneProbability\u001b[39m: \u001b[32mDouble\u001b[39m = \u001b[32m0.10581767438732564\u001b[39m"
      ]
     },
     "execution_count": 14,
     "metadata": {},
     "output_type": "execute_result"
    }
   ],
   "source": [
    "// Question 9 : Quelle est la probabilité que les prochains clients commandent des écouteurs filaires ?\n",
    "val totalOrders = combinedDF2.select(\"Order ID\").distinct().count()\n",
    "val wiredHeadphoneOrders = combinedDF2.filter(col(\"Product\").contains(\"Wired Headphones\")).count()\n",
    "val wiredHeadphoneProbability = wiredHeadphoneOrders.toDouble / totalOrders.toDouble\n",
    "\n",
    "println(s\"La probabilité que les prochains clients commandent des écouteurs filaires est de $wiredHeadphoneProbability\")"
   ]
  },
  {
   "attachments": {},
   "cell_type": "markdown",
   "metadata": {},
   "source": [
    "**Question - Pratique**"
   ]
  },
  {
   "attachments": {},
   "cell_type": "markdown",
   "metadata": {},
   "source": [
    "Cas d'utilisation concret de Machine Learning :\n",
    "Un cas d'utilisation concret pour ces données de ventes pourrait consister à créer un modèle prédictif pour estimer les ventes futures d'un produit spécifique. Par exemple, supposons que vous souhaitiez prédire les ventes mensuelles d'un produit donné sur la base des données historiques de ventes. Vous pourriez utiliser un modèle de régression pour cela.\n",
    "\n",
    "Voici comment vous pourriez procéder :\n",
    "\n",
    "* Préparez les données : Sélectionnez les variables pertinentes pour votre modèle, telles que le mois, le produit et les ventes. Vous devrez peut-être effectuer des transformations supplémentaires, telles que l'encodage des variables catégorielles.\n",
    "\n",
    "* Divisez les données : Divisez votre ensemble de données en un ensemble d'entraînement et un ensemble de test. Vous utiliserez l'ensemble d'entraînement pour entraîner votre modèle et l'ensemble de test pour évaluer sa performance.\n",
    "\n",
    "* Choisissez et entraînez le modèle : Sélectionnez un modèle de régression approprié, tel qu'une régression linéaire ou une régression logistique. Entraînez le modèle en ajustant les coefficients aux données d'entraînement.\n",
    "\n",
    "* Évaluez le modèle : Utilisez l'ensemble de test pour évaluer les performances de votre modèle. Calculez des métriques telles que l'erreur quadratique moyenne (RMSE) ou le coefficient de détermination (R²) pour évaluer à quel point votre modèle prédit les ventes réelles.\n",
    "\n",
    "* Faites des prédictions : Une fois que vous êtes satisfait des performances de votre modèle, vous pouvez l'utiliser pour faire des prédictions sur les ventes futures. Par exemple, vous pourriez estimer les ventes mensuelles pour les prochains mois en utilisant les données actuelles.\n",
    "\n",
    "Il convient de noter que la construction d'un modèle prédictif robuste nécessite souvent plus de données et des techniques plus avancées. Cependant, cet exemple fournit une base pour commencer à explorer l'utilisation de l'apprentissage automatique pour résoudre des problèmes basés sur les données de ventes."
   ]
  },
  {
   "attachments": {},
   "cell_type": "markdown",
   "metadata": {},
   "source": []
  }
 ],
 "metadata": {
  "kernelspec": {
   "display_name": "Scala",
   "language": "scala",
   "name": "scala"
  },
  "language_info": {
   "codemirror_mode": "text/x-scala",
   "file_extension": ".sc",
   "mimetype": "text/x-scala",
   "name": "scala",
   "nbconvert_exporter": "script",
   "version": "2.12.11"
  },
  "orig_nbformat": 4
 },
 "nbformat": 4,
 "nbformat_minor": 2
}
